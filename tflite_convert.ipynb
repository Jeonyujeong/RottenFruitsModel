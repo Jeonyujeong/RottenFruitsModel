{
  "nbformat": 4,
  "nbformat_minor": 0,
  "metadata": {
    "colab": {
      "name": "tflite_convert",
      "provenance": [],
      "authorship_tag": "ABX9TyNBzZrFeDob1Yuwj2NXjOZM",
      "include_colab_link": true
    },
    "kernelspec": {
      "name": "python3",
      "display_name": "Python 3"
    }
  },
  "cells": [
    {
      "cell_type": "markdown",
      "metadata": {
        "id": "view-in-github",
        "colab_type": "text"
      },
      "source": [
        "<a href=\"https://colab.research.google.com/github/Jeonyujeong/RottenFruitsModel/blob/master/tflite_convert.ipynb\" target=\"_parent\"><img src=\"https://colab.research.google.com/assets/colab-badge.svg\" alt=\"Open In Colab\"/></a>"
      ]
    },
    {
      "cell_type": "code",
      "metadata": {
        "id": "_Eyi7XjFv8Zt",
        "colab_type": "code",
        "colab": {
          "base_uri": "https://localhost:8080/",
          "height": 35
        },
        "outputId": "e6ff1eae-8847-4860-c1f6-4ab0e91f4e9d"
      },
      "source": [
        "!python --version"
      ],
      "execution_count": 1,
      "outputs": [
        {
          "output_type": "stream",
          "text": [
            "Python 3.6.9\n"
          ],
          "name": "stdout"
        }
      ]
    },
    {
      "cell_type": "code",
      "metadata": {
        "id": "9gY6hj863wTk",
        "colab_type": "code",
        "colab": {
          "base_uri": "https://localhost:8080/",
          "height": 52
        },
        "outputId": "30c96b68-18fa-4b18-ba8d-6ee5070040d7"
      },
      "source": [
        "%tensorflow_version 1.x\n",
        "import tensorflow\n",
        "print(tensorflow.__version__)"
      ],
      "execution_count": 2,
      "outputs": [
        {
          "output_type": "stream",
          "text": [
            "TensorFlow 1.x selected.\n",
            "1.15.2\n"
          ],
          "name": "stdout"
        }
      ]
    },
    {
      "cell_type": "code",
      "metadata": {
        "id": "yYWk4IT05RVg",
        "colab_type": "code",
        "colab": {
          "base_uri": "https://localhost:8080/",
          "height": 126
        },
        "outputId": "48d9669d-c562-46f1-f935-4f82f74a5bd9"
      },
      "source": [
        "from google.colab import drive\n",
        "drive.mount('/content/gdrive')"
      ],
      "execution_count": 3,
      "outputs": [
        {
          "output_type": "stream",
          "text": [
            "Go to this URL in a browser: https://accounts.google.com/o/oauth2/auth?client_id=947318989803-6bn6qk8qdgf4n4g3pfee6491hc0brc4i.apps.googleusercontent.com&redirect_uri=urn%3aietf%3awg%3aoauth%3a2.0%3aoob&response_type=code&scope=email%20https%3a%2f%2fwww.googleapis.com%2fauth%2fdocs.test%20https%3a%2f%2fwww.googleapis.com%2fauth%2fdrive%20https%3a%2f%2fwww.googleapis.com%2fauth%2fdrive.photos.readonly%20https%3a%2f%2fwww.googleapis.com%2fauth%2fpeopleapi.readonly\n",
            "\n",
            "Enter your authorization code:\n",
            "··········\n",
            "Mounted at /content/gdrive\n"
          ],
          "name": "stdout"
        }
      ]
    },
    {
      "cell_type": "code",
      "metadata": {
        "id": "EPPrR5DN7Dn-",
        "colab_type": "code",
        "colab": {
          "base_uri": "https://localhost:8080/",
          "height": 604
        },
        "outputId": "09d9ebce-e14f-4dae-bf75-ce536c108f7d"
      },
      "source": [
        "!wget https://raw.githubusercontent.com/pjreddie/darknet/master/data/coco.names\n",
        "!wget https://raw.githubusercontent.com/mystic123/tensorflow-yolo-v3/master/convert_weights_pb.py\n",
        "!wget https://raw.githubusercontent.com/mystic123/tensorflow-yolo-v3/master/convert_weights.py"
      ],
      "execution_count": 5,
      "outputs": [
        {
          "output_type": "stream",
          "text": [
            "--2020-07-17 04:12:56--  https://raw.githubusercontent.com/pjreddie/darknet/master/data/coco.names\n",
            "Resolving raw.githubusercontent.com (raw.githubusercontent.com)... 151.101.0.133, 151.101.64.133, 151.101.128.133, ...\n",
            "Connecting to raw.githubusercontent.com (raw.githubusercontent.com)|151.101.0.133|:443... connected.\n",
            "HTTP request sent, awaiting response... 200 OK\n",
            "Length: 625 [text/plain]\n",
            "Saving to: ‘coco.names’\n",
            "\n",
            "\rcoco.names            0%[                    ]       0  --.-KB/s               \rcoco.names          100%[===================>]     625  --.-KB/s    in 0s      \n",
            "\n",
            "2020-07-17 04:12:56 (30.8 MB/s) - ‘coco.names’ saved [625/625]\n",
            "\n",
            "--2020-07-17 04:12:58--  https://raw.githubusercontent.com/mystic123/tensorflow-yolo-v3/master/convert_weights_pb.py\n",
            "Resolving raw.githubusercontent.com (raw.githubusercontent.com)... 151.101.0.133, 151.101.64.133, 151.101.128.133, ...\n",
            "Connecting to raw.githubusercontent.com (raw.githubusercontent.com)|151.101.0.133|:443... connected.\n",
            "HTTP request sent, awaiting response... 200 OK\n",
            "Length: 1681 (1.6K) [text/plain]\n",
            "Saving to: ‘convert_weights_pb.py’\n",
            "\n",
            "convert_weights_pb. 100%[===================>]   1.64K  --.-KB/s    in 0s      \n",
            "\n",
            "2020-07-17 04:12:58 (8.88 MB/s) - ‘convert_weights_pb.py’ saved [1681/1681]\n",
            "\n",
            "--2020-07-17 04:13:00--  https://raw.githubusercontent.com/mystic123/tensorflow-yolo-v3/master/convert_weights.py\n",
            "Resolving raw.githubusercontent.com (raw.githubusercontent.com)... 151.101.0.133, 151.101.64.133, 151.101.128.133, ...\n",
            "Connecting to raw.githubusercontent.com (raw.githubusercontent.com)|151.101.0.133|:443... connected.\n",
            "HTTP request sent, awaiting response... 200 OK\n",
            "Length: 1603 (1.6K) [text/plain]\n",
            "Saving to: ‘convert_weights.py’\n",
            "\n",
            "convert_weights.py  100%[===================>]   1.57K  --.-KB/s    in 0s      \n",
            "\n",
            "2020-07-17 04:13:01 (18.3 MB/s) - ‘convert_weights.py’ saved [1603/1603]\n",
            "\n"
          ],
          "name": "stdout"
        }
      ]
    },
    {
      "cell_type": "code",
      "metadata": {
        "id": "E4C--UD58SpU",
        "colab_type": "code",
        "colab": {
          "base_uri": "https://localhost:8080/",
          "height": 604
        },
        "outputId": "e58dfde3-2723-42d3-e9a4-7cd684bd5250"
      },
      "source": [
        "!wget https://raw.githubusercontent.com/mystic123/tensorflow-yolo-v3/master/yolo_v3.py\n",
        "!wget https://raw.githubusercontent.com/mystic123/tensorflow-yolo-v3/master/demo.py\n",
        "!wget https://raw.githubusercontent.com/mystic123/tensorflow-yolo-v3/master/utils.py"
      ],
      "execution_count": 6,
      "outputs": [
        {
          "output_type": "stream",
          "text": [
            "--2020-07-17 04:13:05--  https://raw.githubusercontent.com/mystic123/tensorflow-yolo-v3/master/yolo_v3.py\n",
            "Resolving raw.githubusercontent.com (raw.githubusercontent.com)... 151.101.0.133, 151.101.64.133, 151.101.128.133, ...\n",
            "Connecting to raw.githubusercontent.com (raw.githubusercontent.com)|151.101.0.133|:443... connected.\n",
            "HTTP request sent, awaiting response... 200 OK\n",
            "Length: 10552 (10K) [text/plain]\n",
            "Saving to: ‘yolo_v3.py’\n",
            "\n",
            "\ryolo_v3.py            0%[                    ]       0  --.-KB/s               \ryolo_v3.py          100%[===================>]  10.30K  --.-KB/s    in 0s      \n",
            "\n",
            "2020-07-17 04:13:06 (90.3 MB/s) - ‘yolo_v3.py’ saved [10552/10552]\n",
            "\n",
            "--2020-07-17 04:13:07--  https://raw.githubusercontent.com/mystic123/tensorflow-yolo-v3/master/demo.py\n",
            "Resolving raw.githubusercontent.com (raw.githubusercontent.com)... 151.101.0.133, 151.101.64.133, 151.101.128.133, ...\n",
            "Connecting to raw.githubusercontent.com (raw.githubusercontent.com)|151.101.0.133|:443... connected.\n",
            "HTTP request sent, awaiting response... 200 OK\n",
            "Length: 3362 (3.3K) [text/plain]\n",
            "Saving to: ‘demo.py’\n",
            "\n",
            "demo.py             100%[===================>]   3.28K  --.-KB/s    in 0s      \n",
            "\n",
            "2020-07-17 04:13:07 (48.7 MB/s) - ‘demo.py’ saved [3362/3362]\n",
            "\n",
            "--2020-07-17 04:13:09--  https://raw.githubusercontent.com/mystic123/tensorflow-yolo-v3/master/utils.py\n",
            "Resolving raw.githubusercontent.com (raw.githubusercontent.com)... 151.101.0.133, 151.101.64.133, 151.101.128.133, ...\n",
            "Connecting to raw.githubusercontent.com (raw.githubusercontent.com)|151.101.0.133|:443... connected.\n",
            "HTTP request sent, awaiting response... 200 OK\n",
            "Length: 10607 (10K) [text/plain]\n",
            "Saving to: ‘utils.py’\n",
            "\n",
            "utils.py            100%[===================>]  10.36K  --.-KB/s    in 0s      \n",
            "\n",
            "2020-07-17 04:13:09 (95.9 MB/s) - ‘utils.py’ saved [10607/10607]\n",
            "\n"
          ],
          "name": "stdout"
        }
      ]
    },
    {
      "cell_type": "code",
      "metadata": {
        "id": "2mlkFeRw-hvl",
        "colab_type": "code",
        "colab": {
          "base_uri": "https://localhost:8080/",
          "height": 212
        },
        "outputId": "91b14c0f-8fe6-4329-e508-78386c782ff1"
      },
      "source": [
        "!wget https://raw.githubusercontent.com/mystic123/tensorflow-yolo-v3/master/yolo_v3_tiny.py"
      ],
      "execution_count": 8,
      "outputs": [
        {
          "output_type": "stream",
          "text": [
            "--2020-07-17 04:13:44--  https://raw.githubusercontent.com/mystic123/tensorflow-yolo-v3/master/yolo_v3_tiny.py\n",
            "Resolving raw.githubusercontent.com (raw.githubusercontent.com)... 151.101.0.133, 151.101.64.133, 151.101.128.133, ...\n",
            "Connecting to raw.githubusercontent.com (raw.githubusercontent.com)|151.101.0.133|:443... connected.\n",
            "HTTP request sent, awaiting response... 200 OK\n",
            "Length: 4030 (3.9K) [text/plain]\n",
            "Saving to: ‘yolo_v3_tiny.py’\n",
            "\n",
            "\ryolo_v3_tiny.py       0%[                    ]       0  --.-KB/s               \ryolo_v3_tiny.py     100%[===================>]   3.94K  --.-KB/s    in 0s      \n",
            "\n",
            "2020-07-17 04:13:44 (59.4 MB/s) - ‘yolo_v3_tiny.py’ saved [4030/4030]\n",
            "\n"
          ],
          "name": "stdout"
        }
      ]
    },
    {
      "cell_type": "code",
      "metadata": {
        "id": "lmkJsQtc6LYC",
        "colab_type": "code",
        "colab": {
          "base_uri": "https://localhost:8080/",
          "height": 855
        },
        "outputId": "e64b3659-9648-4b4a-fd58-154f4aa8206d"
      },
      "source": [
        "!python ./convert_weights.py"
      ],
      "execution_count": 9,
      "outputs": [
        {
          "output_type": "stream",
          "text": [
            "WARNING:tensorflow:\n",
            "The TensorFlow contrib module will not be included in TensorFlow 2.0.\n",
            "For more information, please see:\n",
            "  * https://github.com/tensorflow/community/blob/master/rfcs/20180907-contrib-sunset.md\n",
            "  * https://github.com/tensorflow/addons\n",
            "  * https://github.com/tensorflow/io (for I/O related ops)\n",
            "If you depend on functionality not listed there, please file an issue.\n",
            "\n",
            "WARNING:tensorflow:From ./convert_weights.py:56: The name tf.app.run is deprecated. Please use tf.compat.v1.app.run instead.\n",
            "\n",
            "WARNING:tensorflow:From ./convert_weights.py:38: The name tf.placeholder is deprecated. Please use tf.compat.v1.placeholder instead.\n",
            "\n",
            "W0717 04:13:50.886394 139975484655488 module_wrapper.py:139] From ./convert_weights.py:38: The name tf.placeholder is deprecated. Please use tf.compat.v1.placeholder instead.\n",
            "\n",
            "WARNING:tensorflow:From ./convert_weights.py:40: The name tf.variable_scope is deprecated. Please use tf.compat.v1.variable_scope instead.\n",
            "\n",
            "W0717 04:13:50.896180 139975484655488 module_wrapper.py:139] From ./convert_weights.py:40: The name tf.variable_scope is deprecated. Please use tf.compat.v1.variable_scope instead.\n",
            "\n",
            "WARNING:tensorflow:From /tensorflow-1.15.2/python3.6/tensorflow_core/contrib/layers/python/layers/layers.py:1057: Layer.apply (from tensorflow.python.keras.engine.base_layer) is deprecated and will be removed in a future version.\n",
            "Instructions for updating:\n",
            "Please use `layer.__call__` method instead.\n",
            "W0717 04:13:50.902352 139975484655488 deprecation.py:323] From /tensorflow-1.15.2/python3.6/tensorflow_core/contrib/layers/python/layers/layers.py:1057: Layer.apply (from tensorflow.python.keras.engine.base_layer) is deprecated and will be removed in a future version.\n",
            "Instructions for updating:\n",
            "Please use `layer.__call__` method instead.\n",
            "WARNING:tensorflow:From /content/yolo_v3.py:193: The name tf.image.resize_nearest_neighbor is deprecated. Please use tf.compat.v1.image.resize_nearest_neighbor instead.\n",
            "\n",
            "W0717 04:13:52.822900 139975484655488 module_wrapper.py:139] From /content/yolo_v3.py:193: The name tf.image.resize_nearest_neighbor is deprecated. Please use tf.compat.v1.image.resize_nearest_neighbor instead.\n",
            "\n",
            "WARNING:tensorflow:From ./convert_weights.py:43: The name tf.global_variables is deprecated. Please use tf.compat.v1.global_variables instead.\n",
            "\n",
            "W0717 04:13:53.288478 139975484655488 module_wrapper.py:139] From ./convert_weights.py:43: The name tf.global_variables is deprecated. Please use tf.compat.v1.global_variables instead.\n",
            "\n",
            "Traceback (most recent call last):\n",
            "  File \"./convert_weights.py\", line 56, in <module>\n",
            "    tf.app.run()\n",
            "  File \"/tensorflow-1.15.2/python3.6/tensorflow_core/python/platform/app.py\", line 40, in run\n",
            "    _run(main=main, argv=argv, flags_parser=_parse_flags_tolerate_undef)\n",
            "  File \"/usr/local/lib/python3.6/dist-packages/absl/app.py\", line 299, in run\n",
            "    _run_main(main, args)\n",
            "  File \"/usr/local/lib/python3.6/dist-packages/absl/app.py\", line 250, in _run_main\n",
            "    sys.exit(main(argv))\n",
            "  File \"./convert_weights.py\", line 44, in main\n",
            "    scope='detector'), FLAGS.weights_file)\n",
            "  File \"/content/utils.py\", line 69, in load_weights\n",
            "    with open(weights_file, \"rb\") as fp:\n",
            "FileNotFoundError: [Errno 2] No such file or directory: 'yolov3.weights'\n"
          ],
          "name": "stdout"
        }
      ]
    },
    {
      "cell_type": "code",
      "metadata": {
        "id": "b3KuUG558d_J",
        "colab_type": "code",
        "colab": {}
      },
      "source": [
        "!cat yolo_v3.py"
      ],
      "execution_count": null,
      "outputs": []
    },
    {
      "cell_type": "code",
      "metadata": {
        "id": "ai7wZEKs4sm-",
        "colab_type": "code",
        "colab": {
          "base_uri": "https://localhost:8080/",
          "height": 1000
        },
        "outputId": "468997e6-ad85-44be-943e-275ebe583ce4"
      },
      "source": [
        "!python convert_weights_pb.py --class_names \"/content/gdrive/My Drive/darknet/custom/classes.names\" --weights_file \"/content/gdrive/My Drive/darknet/backup/custom-train-yolo_last.weights\" --data_format \"NHWC\" --tiny"
      ],
      "execution_count": 11,
      "outputs": [
        {
          "output_type": "stream",
          "text": [
            "WARNING:tensorflow:\n",
            "The TensorFlow contrib module will not be included in TensorFlow 2.0.\n",
            "For more information, please see:\n",
            "  * https://github.com/tensorflow/community/blob/master/rfcs/20180907-contrib-sunset.md\n",
            "  * https://github.com/tensorflow/addons\n",
            "  * https://github.com/tensorflow/io (for I/O related ops)\n",
            "If you depend on functionality not listed there, please file an issue.\n",
            "\n",
            "WARNING:tensorflow:From convert_weights_pb.py:56: The name tf.app.run is deprecated. Please use tf.compat.v1.app.run instead.\n",
            "\n",
            "WARNING:tensorflow:From convert_weights_pb.py:42: The name tf.placeholder is deprecated. Please use tf.compat.v1.placeholder instead.\n",
            "\n",
            "W0717 04:14:44.823178 140422240294784 module_wrapper.py:139] From convert_weights_pb.py:42: The name tf.placeholder is deprecated. Please use tf.compat.v1.placeholder instead.\n",
            "\n",
            "WARNING:tensorflow:From convert_weights_pb.py:44: The name tf.variable_scope is deprecated. Please use tf.compat.v1.variable_scope instead.\n",
            "\n",
            "W0717 04:14:44.825248 140422240294784 module_wrapper.py:139] From convert_weights_pb.py:44: The name tf.variable_scope is deprecated. Please use tf.compat.v1.variable_scope instead.\n",
            "\n",
            "WARNING:tensorflow:From /tensorflow-1.15.2/python3.6/tensorflow_core/contrib/layers/python/layers/layers.py:1057: Layer.apply (from tensorflow.python.keras.engine.base_layer) is deprecated and will be removed in a future version.\n",
            "Instructions for updating:\n",
            "Please use `layer.__call__` method instead.\n",
            "W0717 04:14:44.829952 140422240294784 deprecation.py:323] From /tensorflow-1.15.2/python3.6/tensorflow_core/contrib/layers/python/layers/layers.py:1057: Layer.apply (from tensorflow.python.keras.engine.base_layer) is deprecated and will be removed in a future version.\n",
            "Instructions for updating:\n",
            "Please use `layer.__call__` method instead.\n",
            "WARNING:tensorflow:From /content/yolo_v3.py:193: The name tf.image.resize_nearest_neighbor is deprecated. Please use tf.compat.v1.image.resize_nearest_neighbor instead.\n",
            "\n",
            "W0717 04:14:45.195287 140422240294784 module_wrapper.py:139] From /content/yolo_v3.py:193: The name tf.image.resize_nearest_neighbor is deprecated. Please use tf.compat.v1.image.resize_nearest_neighbor instead.\n",
            "\n",
            "WARNING:tensorflow:From convert_weights_pb.py:46: The name tf.global_variables is deprecated. Please use tf.compat.v1.global_variables instead.\n",
            "\n",
            "W0717 04:14:45.279136 140422240294784 module_wrapper.py:139] From convert_weights_pb.py:46: The name tf.global_variables is deprecated. Please use tf.compat.v1.global_variables instead.\n",
            "\n",
            "WARNING:tensorflow:From /content/utils.py:93: The name tf.assign is deprecated. Please use tf.compat.v1.assign instead.\n",
            "\n",
            "W0717 04:14:48.462197 140422240294784 module_wrapper.py:139] From /content/utils.py:93: The name tf.assign is deprecated. Please use tf.compat.v1.assign instead.\n",
            "\n",
            "WARNING:tensorflow:From convert_weights_pb.py:51: The name tf.Session is deprecated. Please use tf.compat.v1.Session instead.\n",
            "\n",
            "W0717 04:14:48.887336 140422240294784 module_wrapper.py:139] From convert_weights_pb.py:51: The name tf.Session is deprecated. Please use tf.compat.v1.Session instead.\n",
            "\n",
            "2020-07-17 04:14:48.917101: I tensorflow/stream_executor/platform/default/dso_loader.cc:44] Successfully opened dynamic library libcuda.so.1\n",
            "2020-07-17 04:14:48.984367: E tensorflow/stream_executor/cuda/cuda_driver.cc:318] failed call to cuInit: CUDA_ERROR_NO_DEVICE: no CUDA-capable device is detected\n",
            "2020-07-17 04:14:48.984442: I tensorflow/stream_executor/cuda/cuda_diagnostics.cc:156] kernel driver does not appear to be running on this host (bbe3dc564ded): /proc/driver/nvidia/version does not exist\n",
            "2020-07-17 04:14:49.000480: I tensorflow/core/platform/profile_utils/cpu_utils.cc:94] CPU Frequency: 2200000000 Hz\n",
            "2020-07-17 04:14:49.001023: I tensorflow/compiler/xla/service/service.cc:168] XLA service 0x2ba0d80 initialized for platform Host (this does not guarantee that XLA will be used). Devices:\n",
            "2020-07-17 04:14:49.001075: I tensorflow/compiler/xla/service/service.cc:176]   StreamExecutor device (0): Host, Default Version\n",
            "WARNING:tensorflow:From /content/utils.py:52: The name tf.get_default_graph is deprecated. Please use tf.compat.v1.get_default_graph instead.\n",
            "\n",
            "W0717 04:14:49.328358 140422240294784 module_wrapper.py:139] From /content/utils.py:52: The name tf.get_default_graph is deprecated. Please use tf.compat.v1.get_default_graph instead.\n",
            "\n",
            "WARNING:tensorflow:From /content/utils.py:53: convert_variables_to_constants (from tensorflow.python.framework.graph_util_impl) is deprecated and will be removed in a future version.\n",
            "Instructions for updating:\n",
            "Use `tf.compat.v1.graph_util.convert_variables_to_constants`\n",
            "W0717 04:14:49.369726 140422240294784 deprecation.py:323] From /content/utils.py:53: convert_variables_to_constants (from tensorflow.python.framework.graph_util_impl) is deprecated and will be removed in a future version.\n",
            "Instructions for updating:\n",
            "Use `tf.compat.v1.graph_util.convert_variables_to_constants`\n",
            "WARNING:tensorflow:From /tensorflow-1.15.2/python3.6/tensorflow_core/python/framework/graph_util_impl.py:277: extract_sub_graph (from tensorflow.python.framework.graph_util_impl) is deprecated and will be removed in a future version.\n",
            "Instructions for updating:\n",
            "Use `tf.compat.v1.graph_util.extract_sub_graph`\n",
            "W0717 04:14:49.370062 140422240294784 deprecation.py:323] From /tensorflow-1.15.2/python3.6/tensorflow_core/python/framework/graph_util_impl.py:277: extract_sub_graph (from tensorflow.python.framework.graph_util_impl) is deprecated and will be removed in a future version.\n",
            "Instructions for updating:\n",
            "Use `tf.compat.v1.graph_util.extract_sub_graph`\n",
            "INFO:tensorflow:Froze 59 variables.\n",
            "I0717 04:14:49.525489 140422240294784 graph_util_impl.py:334] Froze 59 variables.\n",
            "INFO:tensorflow:Converted 59 variables to const ops.\n",
            "I0717 04:14:49.556754 140422240294784 graph_util_impl.py:394] Converted 59 variables to const ops.\n",
            "WARNING:tensorflow:From /content/utils.py:56: The name tf.gfile.GFile is deprecated. Please use tf.io.gfile.GFile instead.\n",
            "\n",
            "W0717 04:14:49.560301 140422240294784 module_wrapper.py:139] From /content/utils.py:56: The name tf.gfile.GFile is deprecated. Please use tf.io.gfile.GFile instead.\n",
            "\n",
            "299 ops written to frozen_darknet_yolov3_model.pb.\n"
          ],
          "name": "stdout"
        }
      ]
    },
    {
      "cell_type": "code",
      "metadata": {
        "id": "i2cLCQ3__701",
        "colab_type": "code",
        "colab": {
          "base_uri": "https://localhost:8080/",
          "height": 126
        },
        "outputId": "d34d60e5-cb57-4e5d-9814-1005a356cfbe"
      },
      "source": [
        "!pip install netron"
      ],
      "execution_count": 13,
      "outputs": [
        {
          "output_type": "stream",
          "text": [
            "Collecting netron\n",
            "\u001b[?25l  Downloading https://files.pythonhosted.org/packages/0c/06/7069400d8d1f8294ab5b9ffae03428d2e955273e7ce402369ca452630b8b/netron-4.3.9-py2.py3-none-any.whl (1.4MB)\n",
            "\u001b[K     |████████████████████████████████| 1.4MB 2.7MB/s \n",
            "\u001b[?25hInstalling collected packages: netron\n",
            "Successfully installed netron-4.3.9\n"
          ],
          "name": "stdout"
        }
      ]
    },
    {
      "cell_type": "code",
      "metadata": {
        "id": "kGQtTp8vBRoJ",
        "colab_type": "code",
        "colab": {
          "base_uri": "https://localhost:8080/",
          "height": 232
        },
        "outputId": "c54ffe50-c497-49b3-deb9-338ab7aaf2e5"
      },
      "source": [
        "!tflite_convert --graph_def_file=/content/frozen_darknet_yolov3_model.pb\\\n",
        " --output_file=yolov3-tiny.tflite\\\n",
        "  --input_format=TENSORFLOW_GRAPHDEF \\\n",
        "  --output_format=TFLITE \\\n",
        "  --input_shape=1,416,416,3 \\\n",
        "  --input_array=inputs\\\n",
        "   --output_array=output_boxes\\\n",
        "    --inference_type=FLOAT --input_data_type=FLOAT"
      ],
      "execution_count": 31,
      "outputs": [
        {
          "output_type": "stream",
          "text": [
            "2020-07-17 04:47:24.187528: I tensorflow/stream_executor/platform/default/dso_loader.cc:44] Successfully opened dynamic library libcuda.so.1\n",
            "2020-07-17 04:47:24.190240: E tensorflow/stream_executor/cuda/cuda_driver.cc:318] failed call to cuInit: CUDA_ERROR_NO_DEVICE: no CUDA-capable device is detected\n",
            "2020-07-17 04:47:24.190284: I tensorflow/stream_executor/cuda/cuda_diagnostics.cc:156] kernel driver does not appear to be running on this host (bbe3dc564ded): /proc/driver/nvidia/version does not exist\n",
            "2020-07-17 04:47:24.196031: I tensorflow/core/platform/profile_utils/cpu_utils.cc:94] CPU Frequency: 2200000000 Hz\n",
            "2020-07-17 04:47:24.196255: I tensorflow/compiler/xla/service/service.cc:168] XLA service 0x1698a00 initialized for platform Host (this does not guarantee that XLA will be used). Devices:\n",
            "2020-07-17 04:47:24.196290: I tensorflow/compiler/xla/service/service.cc:176]   StreamExecutor device (0): Host, Default Version\n",
            "2020-07-17 04:47:24.408266: I tensorflow/core/grappler/devices.cc:55] Number of eligible GPUs (core count >= 8, compute capability >= 0.0): 0\n",
            "2020-07-17 04:47:24.408476: I tensorflow/core/grappler/clusters/single_machine.cc:356] Starting new session\n",
            "2020-07-17 04:47:24.785610: I tensorflow/core/grappler/optimizers/meta_optimizer.cc:786] Optimization results for grappler item: graph_to_optimize\n",
            "2020-07-17 04:47:24.785676: I tensorflow/core/grappler/optimizers/meta_optimizer.cc:788]   constant_folding: Graph size after: 170 nodes (-129), 185 edges (-131), time = 238.632ms.\n",
            "2020-07-17 04:47:24.785687: I tensorflow/core/grappler/optimizers/meta_optimizer.cc:788]   constant_folding: Graph size after: 170 nodes (0), 185 edges (0), time = 83.683ms.\n"
          ],
          "name": "stdout"
        }
      ]
    }
  ]
}